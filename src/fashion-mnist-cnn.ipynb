{
  "nbformat": 4,
  "nbformat_minor": 0,
  "metadata": {
    "colab": {
      "name": "CNN.ipynb",
      "provenance": [],
      "collapsed_sections": []
    },
    "language_info": {
      "codemirror_mode": {
        "name": "ipython",
        "version": 3
      },
      "file_extension": ".py",
      "mimetype": "text/x-python",
      "name": "python",
      "nbconvert_exporter": "python",
      "pygments_lexer": "ipython3",
      "version": "3.6.5"
    },
    "kernelspec": {
      "name": "python3",
      "display_name": "Python 3"
    },
    "accelerator": "GPU"
  },
  "cells": [
    {
      "cell_type": "code",
      "metadata": {
        "id": "NyAA9u34P05S",
        "colab_type": "code",
        "colab": {
          "base_uri": "https://localhost:8080/",
          "height": 34
        },
        "outputId": "d3a5175b-1e39-4b3a-f6fb-f459f8123a5c"
      },
      "source": [
        "import numpy as np\n",
        "import matplotlib.pyplot as plt\n",
        "import pandas as pd\n",
        "import random\n",
        "import keras\n",
        "from keras.models import Sequential, InputLayer\n",
        "from keras.layers import Dense, Dropout, Flatten\n",
        "from keras.layers import Conv2D, MaxPooling2D\n",
        "from keras.optimizers import SGD\n",
        "from keras.datasets import fashion_mnist\n",
        "from keras import backend as K\n",
        "from keras.layers import Activation\n",
        "from keras.layers.normalization import BatchNormalization\n",
        "from sklearn.model_selection import train_test_split  \n",
        "from keras.models import load_model\n",
        "from keras.callbacks import History "
      ],
      "execution_count": 1,
      "outputs": [
        {
          "output_type": "stream",
          "text": [
            "Using TensorFlow backend.\n"
          ],
          "name": "stderr"
        }
      ]
    },
    {
      "cell_type": "code",
      "metadata": {
        "id": "afJM5hdEgusM",
        "colab_type": "code",
        "colab": {
          "base_uri": "https://localhost:8080/",
          "height": 54
        },
        "outputId": "1cff818e-0697-4faa-9abc-34f6af34ee40"
      },
      "source": [
        "from google.colab import drive\n",
        "drive.mount('/content/drive')"
      ],
      "execution_count": 2,
      "outputs": [
        {
          "output_type": "stream",
          "text": [
            "Drive already mounted at /content/drive; to attempt to forcibly remount, call drive.mount(\"/content/drive\", force_remount=True).\n"
          ],
          "name": "stdout"
        }
      ]
    },
    {
      "cell_type": "code",
      "metadata": {
        "id": "0RIf5-RKelAL",
        "colab_type": "code",
        "colab": {}
      },
      "source": [
        "def load_data(path):\n",
        "    df_train = pd.read_csv(path + 'fashion-mnist_train.csv')\n",
        "    df_test = pd.read_csv(path + 'fashion-mnist_test.csv')\n",
        "\n",
        "    df_features = df_train.iloc[:, 1:785]\n",
        "    df_label = df_train.iloc[:, 0]\n",
        "\n",
        "    x_test = df_test.iloc[:, 1:785]\n",
        "    y_test = df_test.iloc[:, 0]\n",
        "\n",
        "    return df_features, df_label, x_test, y_test"
      ],
      "execution_count": 0,
      "outputs": []
    },
    {
      "cell_type": "code",
      "metadata": {
        "id": "Ht8G1C_sidmG",
        "colab_type": "code",
        "colab": {}
      },
      "source": [
        "def preprocess_data(x_train, y_train, x_test, y_test, num_classes, input_shape):\n",
        "\n",
        "    img_rows, img_cols = input_shape\n",
        "\n",
        "    x_train = np.array(x_train)\n",
        "    x_test = np.array(x_test)\n",
        "\n",
        "    if K.image_data_format() == 'channels_first':\n",
        "        x_train = x_train.reshape(x_train.shape[0], img_rows, img_cols, 1)\n",
        "        x_test = x_test.reshape(x_test.shape[0], 1, img_rows* img_cols)\n",
        "        input_shape = (img_rows* img_cols)\n",
        "    else:\n",
        "        x_train = x_train.reshape(x_train.shape[0], img_rows, img_cols, 1)\n",
        "        x_test = x_test.reshape(x_test.shape[0], img_rows, img_cols, 1)\n",
        "        input_shape = (img_rows* img_cols)\n",
        "\n",
        "\n",
        "    x_train = x_train.astype('float32')\n",
        "    x_test = x_test.astype('float32')\n",
        "    x_train /= 255\n",
        "    x_test /= 255\n",
        "\n",
        "    x_train, x_val, y_train, y_val = train_test_split(x_train, y_train, \n",
        "                                                test_size = 0.2,\n",
        "                                                random_state = 1212)\n",
        "    \n",
        "    y_train = keras.utils.to_categorical(y_train, num_classes)\n",
        "    y_test = keras.utils.to_categorical(y_test, num_classes)\n",
        "    y_val = keras.utils.to_categorical(y_val, num_classes)\n",
        "\n",
        "    return x_train, y_train, x_val, y_val, x_test, y_test"
      ],
      "execution_count": 0,
      "outputs": []
    },
    {
      "cell_type": "code",
      "metadata": {
        "id": "hea0mHzTgcy9",
        "colab_type": "code",
        "colab": {
          "base_uri": "https://localhost:8080/",
          "height": 50
        },
        "outputId": "0a9a34f9-7bb7-43f1-f179-8dbee1e22843"
      },
      "source": [
        "# Load fasion-mnist data\n",
        "x_train, y_train, x_test, y_test = load_data('/content/drive/My Drive/fashionmnist/')\n",
        "x_train, y_train, x_val, y_val, x_test, y_test = preprocess_data(x_train, y_train, x_test, y_test, \n",
        "                                                                 num_classes=10, input_shape=(28,28))\n",
        "print(\"X_train's shape: \" + str(x_train.shape))\n",
        "print(\"X_val's shape: \" + str(x_val.shape))"
      ],
      "execution_count": 5,
      "outputs": [
        {
          "output_type": "stream",
          "text": [
            "X_train's shape: (48000, 28, 28, 1)\n",
            "X_val's shape: (12000, 28, 28, 1)\n"
          ],
          "name": "stdout"
        }
      ]
    },
    {
      "cell_type": "code",
      "metadata": {
        "id": "zytd3waQP05a",
        "colab_type": "code",
        "outputId": "60398494-4ee8-4893-9c91-947a9d7e6eff",
        "colab": {
          "base_uri": "https://localhost:8080/",
          "height": 655
        }
      },
      "source": [
        "# Create model\n",
        "\n",
        "model = Sequential()\n",
        "\n",
        "# input: 28x28 images with 1 channels -> (28, 28, 1) tensors.\n",
        "# this applies 32 convolution filters of size 3x3 each.\n",
        "model.add(InputLayer(input_shape = (28, 28, 1)))\n",
        "model.add(BatchNormalization())\n",
        "\n",
        "model.add(Conv2D(filters=64, kernel_size=(3,3), padding='same', activation='relu'))\n",
        "model.add(Conv2D(filters=64, kernel_size=(3,3), padding='same', activation='relu'))\n",
        "model.add(MaxPooling2D(pool_size=(2,2)))\n",
        "model.add(Dropout(0.2))\n",
        "\n",
        "model.add(Conv2D(filters=32, kernel_size=(3,3), padding='same', activation='relu'))\n",
        "model.add(Conv2D(filters=32, kernel_size=(3,3), padding='same', activation='relu'))\n",
        "model.add(MaxPooling2D(pool_size=(2,2)))\n",
        "model.add(Dropout(0.3))\n",
        "\n",
        "model.add(Flatten())\n",
        "\n",
        "model.add(Dense(256, activation='relu'))\n",
        "model.add(Dropout(0.5))\n",
        "model.add(Dense(64, activation='relu'))\n",
        "\n",
        "model.add(BatchNormalization())\n",
        "model.add(Dense(10, activation='softmax'))\n",
        "\n",
        "model.compile(loss='categorical_crossentropy', optimizer='adam', metrics=['accuracy'])\n",
        "\n",
        "model.summary()"
      ],
      "execution_count": 31,
      "outputs": [
        {
          "output_type": "stream",
          "text": [
            "Model: \"sequential_5\"\n",
            "_________________________________________________________________\n",
            "Layer (type)                 Output Shape              Param #   \n",
            "=================================================================\n",
            "batch_normalization_9 (Batch (None, 28, 28, 1)         4         \n",
            "_________________________________________________________________\n",
            "conv2d_17 (Conv2D)           (None, 28, 28, 64)        640       \n",
            "_________________________________________________________________\n",
            "conv2d_18 (Conv2D)           (None, 28, 28, 64)        36928     \n",
            "_________________________________________________________________\n",
            "max_pooling2d_9 (MaxPooling2 (None, 14, 14, 64)        0         \n",
            "_________________________________________________________________\n",
            "dropout_13 (Dropout)         (None, 14, 14, 64)        0         \n",
            "_________________________________________________________________\n",
            "conv2d_19 (Conv2D)           (None, 14, 14, 32)        18464     \n",
            "_________________________________________________________________\n",
            "conv2d_20 (Conv2D)           (None, 14, 14, 32)        9248      \n",
            "_________________________________________________________________\n",
            "max_pooling2d_10 (MaxPooling (None, 7, 7, 32)          0         \n",
            "_________________________________________________________________\n",
            "dropout_14 (Dropout)         (None, 7, 7, 32)          0         \n",
            "_________________________________________________________________\n",
            "flatten_5 (Flatten)          (None, 1568)              0         \n",
            "_________________________________________________________________\n",
            "dense_13 (Dense)             (None, 256)               401664    \n",
            "_________________________________________________________________\n",
            "dropout_15 (Dropout)         (None, 256)               0         \n",
            "_________________________________________________________________\n",
            "dense_14 (Dense)             (None, 64)                16448     \n",
            "_________________________________________________________________\n",
            "batch_normalization_10 (Batc (None, 64)                256       \n",
            "_________________________________________________________________\n",
            "dense_15 (Dense)             (None, 10)                650       \n",
            "=================================================================\n",
            "Total params: 484,302\n",
            "Trainable params: 484,172\n",
            "Non-trainable params: 130\n",
            "_________________________________________________________________\n"
          ],
          "name": "stdout"
        }
      ]
    },
    {
      "cell_type": "code",
      "metadata": {
        "id": "JOV6wXMIP05d",
        "colab_type": "code",
        "outputId": "2ebd136e-fbab-4b0c-adab-f2398ff216e1",
        "colab": {
          "base_uri": "https://localhost:8080/",
          "height": 1000
        }
      },
      "source": [
        "# Train the model\n",
        "history = model.fit(x_train, y_train, batch_size=64, epochs=60)\n",
        "model.save_weights(\"./model.h5\")"
      ],
      "execution_count": 32,
      "outputs": [
        {
          "output_type": "stream",
          "text": [
            "Epoch 1/60\n",
            "48000/48000 [==============================] - 23s 483us/step - loss: 0.5929 - acc: 0.7896\n",
            "Epoch 2/60\n",
            "48000/48000 [==============================] - 21s 435us/step - loss: 0.3532 - acc: 0.8728\n",
            "Epoch 3/60\n",
            "48000/48000 [==============================] - 20s 427us/step - loss: 0.3025 - acc: 0.8911\n",
            "Epoch 4/60\n",
            "48000/48000 [==============================] - 21s 432us/step - loss: 0.2769 - acc: 0.8998\n",
            "Epoch 5/60\n",
            "48000/48000 [==============================] - 20s 421us/step - loss: 0.2541 - acc: 0.9090\n",
            "Epoch 6/60\n",
            "48000/48000 [==============================] - 20s 412us/step - loss: 0.2406 - acc: 0.9122\n",
            "Epoch 7/60\n",
            "48000/48000 [==============================] - 20s 412us/step - loss: 0.2279 - acc: 0.9173\n",
            "Epoch 8/60\n",
            "48000/48000 [==============================] - 20s 410us/step - loss: 0.2168 - acc: 0.9204\n",
            "Epoch 9/60\n",
            "48000/48000 [==============================] - 20s 413us/step - loss: 0.2092 - acc: 0.9231\n",
            "Epoch 10/60\n",
            "48000/48000 [==============================] - 20s 407us/step - loss: 0.2026 - acc: 0.9260\n",
            "Epoch 11/60\n",
            "48000/48000 [==============================] - 20s 408us/step - loss: 0.1950 - acc: 0.9291\n",
            "Epoch 12/60\n",
            "48000/48000 [==============================] - 20s 412us/step - loss: 0.1897 - acc: 0.9306\n",
            "Epoch 13/60\n",
            "48000/48000 [==============================] - 20s 409us/step - loss: 0.1795 - acc: 0.9343\n",
            "Epoch 14/60\n",
            "48000/48000 [==============================] - 20s 410us/step - loss: 0.1781 - acc: 0.9340\n",
            "Epoch 15/60\n",
            "48000/48000 [==============================] - 20s 408us/step - loss: 0.1724 - acc: 0.9369\n",
            "Epoch 16/60\n",
            "48000/48000 [==============================] - 20s 410us/step - loss: 0.1670 - acc: 0.9394\n",
            "Epoch 17/60\n",
            "48000/48000 [==============================] - 20s 407us/step - loss: 0.1632 - acc: 0.9395\n",
            "Epoch 18/60\n",
            "48000/48000 [==============================] - 19s 406us/step - loss: 0.1583 - acc: 0.9421\n",
            "Epoch 19/60\n",
            "48000/48000 [==============================] - 20s 409us/step - loss: 0.1542 - acc: 0.9446\n",
            "Epoch 20/60\n",
            "48000/48000 [==============================] - 20s 417us/step - loss: 0.1511 - acc: 0.9437\n",
            "Epoch 21/60\n",
            "48000/48000 [==============================] - 19s 405us/step - loss: 0.1499 - acc: 0.9446\n",
            "Epoch 22/60\n",
            "48000/48000 [==============================] - 20s 408us/step - loss: 0.1461 - acc: 0.9460\n",
            "Epoch 23/60\n",
            "48000/48000 [==============================] - 20s 408us/step - loss: 0.1399 - acc: 0.9488\n",
            "Epoch 24/60\n",
            "48000/48000 [==============================] - 20s 408us/step - loss: 0.1339 - acc: 0.9503\n",
            "Epoch 25/60\n",
            "48000/48000 [==============================] - 20s 410us/step - loss: 0.1369 - acc: 0.9499\n",
            "Epoch 26/60\n",
            "48000/48000 [==============================] - 20s 409us/step - loss: 0.1308 - acc: 0.9522\n",
            "Epoch 27/60\n",
            "48000/48000 [==============================] - 20s 409us/step - loss: 0.1336 - acc: 0.9516\n",
            "Epoch 28/60\n",
            "48000/48000 [==============================] - 20s 411us/step - loss: 0.1289 - acc: 0.9525\n",
            "Epoch 29/60\n",
            "48000/48000 [==============================] - 19s 404us/step - loss: 0.1291 - acc: 0.9517\n",
            "Epoch 30/60\n",
            "48000/48000 [==============================] - 19s 397us/step - loss: 0.1242 - acc: 0.9555\n",
            "Epoch 31/60\n",
            "48000/48000 [==============================] - 19s 400us/step - loss: 0.1203 - acc: 0.9560\n",
            "Epoch 32/60\n",
            "48000/48000 [==============================] - 19s 398us/step - loss: 0.1216 - acc: 0.9550\n",
            "Epoch 33/60\n",
            "48000/48000 [==============================] - 19s 403us/step - loss: 0.1201 - acc: 0.9570\n",
            "Epoch 34/60\n",
            "48000/48000 [==============================] - 19s 402us/step - loss: 0.1112 - acc: 0.9599\n",
            "Epoch 35/60\n",
            "48000/48000 [==============================] - 19s 406us/step - loss: 0.1172 - acc: 0.9568\n",
            "Epoch 36/60\n",
            "48000/48000 [==============================] - 20s 409us/step - loss: 0.1149 - acc: 0.9572\n",
            "Epoch 37/60\n",
            "48000/48000 [==============================] - 19s 402us/step - loss: 0.1096 - acc: 0.9594\n",
            "Epoch 38/60\n",
            "48000/48000 [==============================] - 19s 401us/step - loss: 0.1070 - acc: 0.9608\n",
            "Epoch 39/60\n",
            "48000/48000 [==============================] - 19s 399us/step - loss: 0.1069 - acc: 0.9610\n",
            "Epoch 40/60\n",
            "48000/48000 [==============================] - 19s 395us/step - loss: 0.1076 - acc: 0.9609\n",
            "Epoch 41/60\n",
            "48000/48000 [==============================] - 19s 394us/step - loss: 0.1065 - acc: 0.9601\n",
            "Epoch 42/60\n",
            "48000/48000 [==============================] - 19s 393us/step - loss: 0.0997 - acc: 0.9635\n",
            "Epoch 43/60\n",
            "48000/48000 [==============================] - 19s 388us/step - loss: 0.1010 - acc: 0.9626\n",
            "Epoch 44/60\n",
            "48000/48000 [==============================] - 19s 388us/step - loss: 0.0989 - acc: 0.9641\n",
            "Epoch 45/60\n",
            "48000/48000 [==============================] - 19s 389us/step - loss: 0.1001 - acc: 0.9639\n",
            "Epoch 46/60\n",
            "48000/48000 [==============================] - 19s 389us/step - loss: 0.0998 - acc: 0.9645\n",
            "Epoch 47/60\n",
            "48000/48000 [==============================] - 19s 386us/step - loss: 0.0967 - acc: 0.9650\n",
            "Epoch 48/60\n",
            "48000/48000 [==============================] - 19s 391us/step - loss: 0.0934 - acc: 0.9659\n",
            "Epoch 49/60\n",
            "48000/48000 [==============================] - 19s 391us/step - loss: 0.0955 - acc: 0.9653\n",
            "Epoch 50/60\n",
            "48000/48000 [==============================] - 19s 391us/step - loss: 0.0924 - acc: 0.9662\n",
            "Epoch 51/60\n",
            "48000/48000 [==============================] - 19s 396us/step - loss: 0.0931 - acc: 0.9658\n",
            "Epoch 52/60\n",
            "48000/48000 [==============================] - 20s 413us/step - loss: 0.0911 - acc: 0.9664\n",
            "Epoch 53/60\n",
            "48000/48000 [==============================] - 20s 407us/step - loss: 0.0899 - acc: 0.9674\n",
            "Epoch 54/60\n",
            "48000/48000 [==============================] - 19s 406us/step - loss: 0.0873 - acc: 0.9678\n",
            "Epoch 55/60\n",
            "48000/48000 [==============================] - 20s 407us/step - loss: 0.0883 - acc: 0.9685\n",
            "Epoch 56/60\n",
            "48000/48000 [==============================] - 20s 406us/step - loss: 0.0842 - acc: 0.9693\n",
            "Epoch 57/60\n",
            "48000/48000 [==============================] - 19s 397us/step - loss: 0.0882 - acc: 0.9666\n",
            "Epoch 58/60\n",
            "48000/48000 [==============================] - 19s 397us/step - loss: 0.0851 - acc: 0.9692\n",
            "Epoch 59/60\n",
            "48000/48000 [==============================] - 19s 400us/step - loss: 0.0863 - acc: 0.9679\n",
            "Epoch 60/60\n",
            "48000/48000 [==============================] - 19s 400us/step - loss: 0.0846 - acc: 0.9688\n"
          ],
          "name": "stdout"
        }
      ]
    },
    {
      "cell_type": "code",
      "metadata": {
        "id": "Ks1MKZw63gDZ",
        "colab_type": "code",
        "colab": {
          "base_uri": "https://localhost:8080/",
          "height": 50
        },
        "outputId": "cd2810fb-ac76-49bc-beab-6a6c6648dbbd"
      },
      "source": [
        "# Evaluate model on training set\n",
        "score_train = model.evaluate(x_train, y_train, batch_size=64)\n",
        "print('train_loss: %.5f - train_acc: %.2f%%' % (score_train[0], score_train[1]*100))"
      ],
      "execution_count": 33,
      "outputs": [
        {
          "output_type": "stream",
          "text": [
            "48000/48000 [==============================] - 5s 111us/step\n",
            "train_loss: 0.02589 - train_acc: 99.27%\n"
          ],
          "name": "stdout"
        }
      ]
    },
    {
      "cell_type": "code",
      "metadata": {
        "id": "49feqZ7x2mPy",
        "colab_type": "code",
        "outputId": "a08c7c9f-1bdb-49c1-89b8-6e8a0a2e8d2a",
        "colab": {
          "base_uri": "https://localhost:8080/",
          "height": 50
        }
      },
      "source": [
        "# Evaluate model on valid set\n",
        "score_val = model.evaluate(x_val, y_val, batch_size=64)\n",
        "print('val_loss: %.5f - val_acc: %.2f%%' % (score_val[0], score_val[1]*100))"
      ],
      "execution_count": 34,
      "outputs": [
        {
          "output_type": "stream",
          "text": [
            "12000/12000 [==============================] - 1s 97us/step\n",
            "val_loss: 0.20546 - val_acc: 93.51%\n"
          ],
          "name": "stdout"
        }
      ]
    },
    {
      "cell_type": "code",
      "metadata": {
        "id": "gHPliNjGRakx",
        "colab_type": "code",
        "colab": {
          "base_uri": "https://localhost:8080/",
          "height": 50
        },
        "outputId": "92ba11c9-ef49-4567-8c17-5d41986c88b2"
      },
      "source": [
        "# Evaluate model on test set\n",
        "score_test = model.evaluate(x_test, y_test, batch_size=64)\n",
        "print('test_loss: %.5f - test_acc: %.2f%%' % (score_test[0], score_test[1]*100))"
      ],
      "execution_count": 35,
      "outputs": [
        {
          "output_type": "stream",
          "text": [
            "10000/10000 [==============================] - 1s 97us/step\n",
            "test_loss: 0.18010 - test_acc: 94.25%\n"
          ],
          "name": "stdout"
        }
      ]
    },
    {
      "cell_type": "code",
      "metadata": {
        "id": "cNy_O6J2aBLV",
        "colab_type": "code",
        "outputId": "eb7a44f9-b748-41e1-b34b-49c355d2e519",
        "colab": {
          "base_uri": "https://localhost:8080/",
          "height": 119
        }
      },
      "source": [
        "# Predict for test dataset\n",
        "y_pred = model.predict(x_test)\n",
        "\n",
        "# Convert test to labels \n",
        "y_hat = np.argmax(y_pred, axis=1)\n",
        "labels_text = ['T-shirt/top',\n",
        "'Trouser/pants',\n",
        "'Pullover shirt',\n",
        "'Dress',\n",
        "'Coat',\n",
        "'Sandal',\n",
        "'Shirt',\n",
        "'Sneaker',\n",
        "'Bag',\n",
        "'Ankle boot']\n",
        "\n",
        "# Show ramdom 5 text image and labels predict\n",
        "random_indexes = random.sample(range(x_test.shape[0]),5)\n",
        "#Visualizing the orginal images\n",
        "fig, axes = plt.subplots(nrows=1, ncols=5)\n",
        "original_images = [x_test[i].reshape((28, 28)) for i in random_indexes]\n",
        "i = 0\n",
        "for ax in axes:\n",
        "    ax.imshow(original_images[i], cmap ='gist_gray')\n",
        "    i += 1\n",
        "fig.tight_layout()\n",
        "\n",
        "print([labels_text[i] for i in y_hat[random_indexes]])"
      ],
      "execution_count": 36,
      "outputs": [
        {
          "output_type": "stream",
          "text": [
            "['Bag', 'Shirt', 'Bag', 'Dress', 'Bag']\n"
          ],
          "name": "stdout"
        },
        {
          "output_type": "display_data",
          "data": {
            "image/png": "[encoded data removed]",
            "text/plain": [
              "<Figure size 432x288 with 5 Axes>"
            ]
          },
          "metadata": {
            "tags": []
          }
        }
      ]
    },
    {
      "cell_type": "code",
      "metadata": {
        "id": "FcNaus6H28du",
        "colab_type": "code",
        "colab": {
          "base_uri": "https://localhost:8080/",
          "height": 590
        },
        "outputId": "8f9d03bb-e0eb-40c4-d841-6427d2539666"
      },
      "source": [
        "print(history.history.keys())\n",
        "# summarize history for accuracy\n",
        "plt.plot(history.history['acc'])\n",
        "plt.title('model accuracy')\n",
        "plt.ylabel('accuracy')\n",
        "plt.xlabel('epoch')\n",
        "plt.legend(['train', 'val'], loc='upper left')\n",
        "plt.show()\n",
        "# summarize history for loss\n",
        "plt.plot(history.history['loss'])\n",
        "plt.title('model loss')\n",
        "plt.ylabel('loss')\n",
        "plt.xlabel('epoch')\n",
        "plt.legend(['train', 'val'], loc='upper left')\n",
        "plt.show()"
      ],
      "execution_count": 37,
      "outputs": [
        {
          "output_type": "stream",
          "text": [
            "dict_keys(['loss', 'acc'])\n"
          ],
          "name": "stdout"
        },
        {
          "output_type": "display_data",
          "data": {
            "image/png": "[encoded data removed]",
            "text/plain": [
              "<Figure size 432x288 with 1 Axes>"
            ]
          },
          "metadata": {
            "tags": []
          }
        },
        {
          "output_type": "display_data",
          "data": {
            "image/png": "[encoded data removed]",
            "text/plain": [
              "<Figure size 432x288 with 1 Axes>"
            ]
          },
          "metadata": {
            "tags": []
          }
        }
      ]
    }
  ]
}
